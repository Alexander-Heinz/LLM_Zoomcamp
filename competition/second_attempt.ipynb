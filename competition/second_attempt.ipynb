{
 "cells": [
  {
   "cell_type": "code",
   "execution_count": 106,
   "metadata": {},
   "outputs": [],
   "source": [
    "import pandas as pd\n",
    "import os\n",
    "os.getcwd()\n",
    "\n",
    "from dotenv import load_dotenv\n",
    "load_dotenv()\n",
    "\n",
    "OPENAI_API_KEY = os.getenv('OPENAI_API_KEY')\n",
    "\n",
    "\n",
    "LANGCHAIN_API_KEY = os.getenv('LANGCHAIN_API_KEY')\n",
    "\n",
    "\n",
    "\n",
    "HUGGINGFACE_API_KEY = os.getenv('HUGGINGFACE_API_KEY')\n",
    "\n",
    "\n",
    "\n",
    "import getpass\n",
    "import os\n",
    "\n",
    "def _get_env(var: str):\n",
    "    if not os.environ.get(var):\n",
    "        os.environ[var] = getpass.getpass(f\"{var}: \")\n",
    "\n",
    "_get_env(\"OPENAI_API_KEY\")\n",
    "_get_env(\"LANGCHAIN_API_KEY\")\n",
    "_get_env(\"HUGGINGFACE_API_KEY\")\n",
    "\n",
    "os.environ[\"LANGCHAIN_TRACING_V2\"] = \"true\"\n",
    "\n",
    "\n",
    "from langchain_core.output_parsers import StrOutputParser\n",
    "parser = StrOutputParser()\n",
    "\n",
    "\n"
   ]
  },
  {
   "cell_type": "code",
   "execution_count": 90,
   "metadata": {},
   "outputs": [],
   "source": [
    "\n",
    "from langchain_openai import OpenAI\n",
    "from langchain.prompts import PromptTemplate\n",
    "from langchain_openai import ChatOpenAI\n",
    "\n",
    "llm = ChatOpenAI(model_name=\"gpt-4o-mini\", \n",
    "             temperature=0.5, \n",
    "             max_tokens=1500\n",
    "             )"
   ]
  },
  {
   "cell_type": "code",
   "execution_count": 91,
   "metadata": {},
   "outputs": [
    {
     "data": {
      "text/plain": [
       "AIMessage(content='Test received! How can I assist you today?', additional_kwargs={'refusal': None}, response_metadata={'token_usage': {'completion_tokens': 10, 'prompt_tokens': 8, 'total_tokens': 18}, 'model_name': 'gpt-4o-mini-2024-07-18', 'system_fingerprint': 'fp_507c9469a1', 'finish_reason': 'stop', 'logprobs': None}, id='run-376e2d3a-ca2d-4dc8-9a10-5344e1f4c64d-0', usage_metadata={'input_tokens': 8, 'output_tokens': 10, 'total_tokens': 18})"
      ]
     },
     "execution_count": 91,
     "metadata": {},
     "output_type": "execute_result"
    }
   ],
   "source": [
    "llm.invoke(\"test\")"
   ]
  },
  {
   "cell_type": "code",
   "execution_count": 92,
   "metadata": {},
   "outputs": [],
   "source": [
    "def get_answer(question):\n",
    "    prompt = f\"\"\"Please solve the following math problem:\n",
    "\n",
    "{question}\n",
    "\n",
    "Please give the answer in float or integer numerical form.\n",
    "\"\"\"\n",
    "\n",
    "    response = llm.invoke(prompt)\n",
    "    return response.content.strip()"
   ]
  },
  {
   "cell_type": "code",
   "execution_count": 93,
   "metadata": {},
   "outputs": [
    {
     "name": "stderr",
     "output_type": "stream",
     "text": [
      "<>:12: SyntaxWarning: invalid escape sequence '\\s'\n",
      "<>:12: SyntaxWarning: invalid escape sequence '\\s'\n",
      "/var/folders/81/16mr_0gj603btxm2xxhl704c0000gn/T/ipykernel_71804/318821390.py:12: SyntaxWarning: invalid escape sequence '\\s'\n",
      "  prompt += \"\"\"\n"
     ]
    }
   ],
   "source": [
    "def reevaluate(question, llm_reasoning, numerical_answer, correct_answer=None):\n",
    "    prompt = f\"\"\"Imagine you're a high school teacher grading exam questions. The following question was answered by a student.\n",
    "    {question}\n",
    "    This was the answer given by the student:\n",
    "    {llm_reasoning},\n",
    "    So this was the answer marked as final by our automatic answer detection system:\n",
    "    {numerical_answer}\"\"\"\n",
    "    \n",
    "    if correct_answer is not None:\n",
    "        prompt += f\"\\n    and this is the actual correct answer by the solutions book (which might sometimes contain errors):\\n    {correct_answer}\"\n",
    "    \n",
    "    prompt += \"\"\"\n",
    "    \n",
    "    Please re-evaluate his answer and grade his exam, and tell whether the question was correct or not, and also whether our numerical_answer was read correctly. \n",
    "    In any case, please write \"final answer\" (the correct(ed) answer in numerical form, readable by the regex [:\\s]*([+-]?\\d*\\.?\\d+)) as your last line. Please use floating numbers, so NOT LaTeX notation, but floating numbers, or integers. \n",
    "    \"\"\"\n",
    "    \n",
    "    response = llm.invoke(prompt)\n",
    "    return response.content.strip()\n"
   ]
  },
  {
   "cell_type": "code",
   "execution_count": 94,
   "metadata": {},
   "outputs": [],
   "source": [
    "import re\n",
    "\n",
    "def extract_numerical_answer(text):\n",
    "    # Look for patterns like \"Final answer: X\" or \"The answer is X\" at the end of the text\n",
    "    match = re.search(r'(?:final answer|the answer is)[:\\s]*([+-]?\\d*\\.?\\d+)', text, re.IGNORECASE)\n",
    "    if match:\n",
    "        return float(match.group(1))\n",
    "    else:\n",
    "        # If no clear final answer, look for the last number in the text\n",
    "        numbers = re.findall(r'[+-]?\\d*\\.?\\d+', text)\n",
    "        return float(numbers[-1]) if numbers else None"
   ]
  },
  {
   "cell_type": "code",
   "execution_count": 95,
   "metadata": {},
   "outputs": [],
   "source": [
    "from tqdm.auto import tqdm\n",
    "\n",
    "from concurrent.futures import ThreadPoolExecutor\n",
    "\n",
    "pool = ThreadPoolExecutor(max_workers=6)\n",
    "\n",
    "def map_progress(pool, seq, f):\n",
    "    results = []\n",
    "\n",
    "    with tqdm(total=len(seq)) as progress:\n",
    "        futures = []\n",
    "\n",
    "        for el in seq:\n",
    "            future = pool.submit(f, el)\n",
    "            future.add_done_callback(lambda p: progress.update())\n",
    "            futures.append(future)\n",
    "\n",
    "        for future in futures:\n",
    "            result = future.result()\n",
    "            results.append(result)\n",
    "\n",
    "    return results"
   ]
  },
  {
   "cell_type": "code",
   "execution_count": 96,
   "metadata": {},
   "outputs": [],
   "source": [
    "def process_row(row):\n",
    "    problem_id = row['problem_id']\n",
    "    problem_text = row['problem_text']\n",
    "    \n",
    "    # Use `.get()` to safely retrieve 'answer', returning `None` if it doesn't exist\n",
    "    correct_answer = row.get(\"answer\", None)\n",
    "\n",
    "    llm_reasoning = get_answer(problem_text)\n",
    "\n",
    "    numerical_answer = extract_numerical_answer(llm_reasoning)\n",
    "\n",
    "    # Pass correct_answer to reevaluate, which can now handle None values\n",
    "    reevaluation = reevaluate(problem_text, llm_reasoning, numerical_answer, correct_answer)\n",
    "\n",
    "    numerical_answer = extract_numerical_answer(reevaluation)\n",
    "\n",
    "    # Build the result dictionary, including correct_answer only if it's not None\n",
    "    result = {\n",
    "        'problem_id': problem_id,\n",
    "        'problem_text': problem_text,\n",
    "        'llm_reasoning': llm_reasoning,\n",
    "        'reevaluation': reevaluation,\n",
    "        'answer': numerical_answer,\n",
    "    }\n",
    "\n",
    "    if correct_answer is not None:\n",
    "        result[\"correct_answer\"] = correct_answer\n",
    "\n",
    "    return result\n"
   ]
  },
  {
   "cell_type": "code",
   "execution_count": 97,
   "metadata": {},
   "outputs": [],
   "source": [
    "# df_train = pd.read_csv('data/train.csv')\n",
    "# df_train.head()\n",
    "\n",
    "# rows = df_train.head().to_dict(orient='records')\n",
    "# process_row(rows[0])"
   ]
  },
  {
   "cell_type": "code",
   "execution_count": 98,
   "metadata": {},
   "outputs": [],
   "source": [
    "# ## UNCHECKED\n",
    "# df_train_unchecked = pd.read_csv('data/train_unchecked.csv')\n",
    "# df_train_unchecked.head()\n",
    "\n",
    "# rows_unchecked = df_train_unchecked.head().to_dict(orient='records')\n",
    "# process_row(rows_unchecked[0])"
   ]
  },
  {
   "cell_type": "code",
   "execution_count": 99,
   "metadata": {},
   "outputs": [
    {
     "data": {
      "application/vnd.jupyter.widget-view+json": {
       "model_id": "b2ebbad38f0c4c6f8561ba1e3c23be32",
       "version_major": 2,
       "version_minor": 0
      },
      "text/plain": [
       "  0%|          | 0/5 [00:00<?, ?it/s]"
      ]
     },
     "metadata": {},
     "output_type": "display_data"
    },
    {
     "data": {
      "text/html": [
       "<div>\n",
       "<style scoped>\n",
       "    .dataframe tbody tr th:only-of-type {\n",
       "        vertical-align: middle;\n",
       "    }\n",
       "\n",
       "    .dataframe tbody tr th {\n",
       "        vertical-align: top;\n",
       "    }\n",
       "\n",
       "    .dataframe thead th {\n",
       "        text-align: right;\n",
       "    }\n",
       "</style>\n",
       "<table border=\"1\" class=\"dataframe\">\n",
       "  <thead>\n",
       "    <tr style=\"text-align: right;\">\n",
       "      <th></th>\n",
       "      <th>problem_id</th>\n",
       "      <th>problem_text</th>\n",
       "      <th>llm_reasoning</th>\n",
       "      <th>reevaluation</th>\n",
       "      <th>answer</th>\n",
       "      <th>correct_answer</th>\n",
       "    </tr>\n",
       "  </thead>\n",
       "  <tbody>\n",
       "    <tr>\n",
       "      <th>0</th>\n",
       "      <td>2374</td>\n",
       "      <td>Find the value of the expression $\\dfrac{17}{5...</td>\n",
       "      <td>To solve the expression \\(\\dfrac{17}{5} :\\dfra...</td>\n",
       "      <td>The student's solution to the expression \\(\\df...</td>\n",
       "      <td>1.6</td>\n",
       "      <td>1.6</td>\n",
       "    </tr>\n",
       "    <tr>\n",
       "      <th>1</th>\n",
       "      <td>4723</td>\n",
       "      <td>In a company of 30 people, 25 use the social n...</td>\n",
       "      <td>To solve the problem, we can use the principle...</td>\n",
       "      <td>Let's evaluate the student's answer step by st...</td>\n",
       "      <td>24.0</td>\n",
       "      <td>24</td>\n",
       "    </tr>\n",
       "    <tr>\n",
       "      <th>2</th>\n",
       "      <td>7135</td>\n",
       "      <td>The number of road traffic accidents (RTAs) in...</td>\n",
       "      <td>Let the number of road traffic accidents in th...</td>\n",
       "      <td>The student's answer is correct in terms of th...</td>\n",
       "      <td>32.0</td>\n",
       "      <td>32</td>\n",
       "    </tr>\n",
       "    <tr>\n",
       "      <th>3</th>\n",
       "      <td>5814</td>\n",
       "      <td>Find the value of the expression $\\dfrac{2\\str...</td>\n",
       "      <td>To solve the expression \\n\\n\\[\\n\\dfrac{2^{-5} ...</td>\n",
       "      <td>The student's answer is correct. They correctl...</td>\n",
       "      <td>256.0</td>\n",
       "      <td>256</td>\n",
       "    </tr>\n",
       "    <tr>\n",
       "      <th>4</th>\n",
       "      <td>9237</td>\n",
       "      <td>A traveler from Moscow wants to visit four cit...</td>\n",
       "      <td>To visit all four cities (Vladimir, Yaroslavl,...</td>\n",
       "      <td>The student's answer correctly analyzed the ro...</td>\n",
       "      <td>26.0</td>\n",
       "      <td>53</td>\n",
       "    </tr>\n",
       "  </tbody>\n",
       "</table>\n",
       "</div>"
      ],
      "text/plain": [
       "   problem_id                                       problem_text  \\\n",
       "0        2374  Find the value of the expression $\\dfrac{17}{5...   \n",
       "1        4723  In a company of 30 people, 25 use the social n...   \n",
       "2        7135  The number of road traffic accidents (RTAs) in...   \n",
       "3        5814  Find the value of the expression $\\dfrac{2\\str...   \n",
       "4        9237  A traveler from Moscow wants to visit four cit...   \n",
       "\n",
       "                                       llm_reasoning  \\\n",
       "0  To solve the expression \\(\\dfrac{17}{5} :\\dfra...   \n",
       "1  To solve the problem, we can use the principle...   \n",
       "2  Let the number of road traffic accidents in th...   \n",
       "3  To solve the expression \\n\\n\\[\\n\\dfrac{2^{-5} ...   \n",
       "4  To visit all four cities (Vladimir, Yaroslavl,...   \n",
       "\n",
       "                                        reevaluation  answer correct_answer  \n",
       "0  The student's solution to the expression \\(\\df...     1.6            1.6  \n",
       "1  Let's evaluate the student's answer step by st...    24.0             24  \n",
       "2  The student's answer is correct in terms of th...    32.0             32  \n",
       "3  The student's answer is correct. They correctl...   256.0            256  \n",
       "4  The student's answer correctly analyzed the ro...    26.0             53  "
      ]
     },
     "execution_count": 99,
     "metadata": {},
     "output_type": "execute_result"
    }
   ],
   "source": [
    "results = map_progress(pool, rows, process_row)\n",
    "df_results = pd.DataFrame(results)\n",
    "df_results"
   ]
  },
  {
   "cell_type": "code",
   "execution_count": 100,
   "metadata": {},
   "outputs": [],
   "source": [
    "from scorer import score\n",
    "# score(df_train.head(), df_results, 'problem_id')"
   ]
  },
  {
   "cell_type": "code",
   "execution_count": 101,
   "metadata": {},
   "outputs": [],
   "source": [
    "def prepare_prompts_and_get_answers(df):\n",
    "    rows = df.to_dict(orient='records')\n",
    "    results = map_progress(pool, rows, process_row)\n",
    "    return pd.DataFrame(results)\n"
   ]
  },
  {
   "cell_type": "code",
   "execution_count": 102,
   "metadata": {},
   "outputs": [
    {
     "data": {
      "application/vnd.jupyter.widget-view+json": {
       "model_id": "26af1f060fef4806b20f00fe0e8e8c04",
       "version_major": 2,
       "version_minor": 0
      },
      "text/plain": [
       "  0%|          | 0/100 [00:00<?, ?it/s]"
      ]
     },
     "metadata": {},
     "output_type": "display_data"
    },
    {
     "data": {
      "text/html": [
       "<div>\n",
       "<style scoped>\n",
       "    .dataframe tbody tr th:only-of-type {\n",
       "        vertical-align: middle;\n",
       "    }\n",
       "\n",
       "    .dataframe tbody tr th {\n",
       "        vertical-align: top;\n",
       "    }\n",
       "\n",
       "    .dataframe thead th {\n",
       "        text-align: right;\n",
       "    }\n",
       "</style>\n",
       "<table border=\"1\" class=\"dataframe\">\n",
       "  <thead>\n",
       "    <tr style=\"text-align: right;\">\n",
       "      <th></th>\n",
       "      <th>problem_id</th>\n",
       "      <th>problem_text</th>\n",
       "      <th>llm_reasoning</th>\n",
       "      <th>reevaluation</th>\n",
       "      <th>answer</th>\n",
       "      <th>correct_answer</th>\n",
       "    </tr>\n",
       "  </thead>\n",
       "  <tbody>\n",
       "    <tr>\n",
       "      <th>0</th>\n",
       "      <td>2374</td>\n",
       "      <td>Find the value of the expression $\\dfrac{17}{5...</td>\n",
       "      <td>To solve the expression \\(\\dfrac{17}{5} : \\dfr...</td>\n",
       "      <td>The student provided a thorough and correct so...</td>\n",
       "      <td>1.6</td>\n",
       "      <td>1.6</td>\n",
       "    </tr>\n",
       "    <tr>\n",
       "      <th>1</th>\n",
       "      <td>4723</td>\n",
       "      <td>In a company of 30 people, 25 use the social n...</td>\n",
       "      <td>Let's analyze the problem step by step using t...</td>\n",
       "      <td>Let's evaluate the student's answer step by st...</td>\n",
       "      <td>24.0</td>\n",
       "      <td>24</td>\n",
       "    </tr>\n",
       "    <tr>\n",
       "      <th>2</th>\n",
       "      <td>7135</td>\n",
       "      <td>The number of road traffic accidents (RTAs) in...</td>\n",
       "      <td>Let the number of road traffic accidents in th...</td>\n",
       "      <td>The student's answer is well-structured and co...</td>\n",
       "      <td>32.0</td>\n",
       "      <td>32</td>\n",
       "    </tr>\n",
       "    <tr>\n",
       "      <th>3</th>\n",
       "      <td>5814</td>\n",
       "      <td>Find the value of the expression $\\dfrac{2\\str...</td>\n",
       "      <td>To solve the expression \\(\\dfrac{2^{-5} \\cdot ...</td>\n",
       "      <td>The student provided a thorough and correct so...</td>\n",
       "      <td>256.0</td>\n",
       "      <td>256</td>\n",
       "    </tr>\n",
       "    <tr>\n",
       "      <th>4</th>\n",
       "      <td>9237</td>\n",
       "      <td>A traveler from Moscow wants to visit four cit...</td>\n",
       "      <td>To find a combination of routes that allows th...</td>\n",
       "      <td>The student's answer contains several inaccura...</td>\n",
       "      <td>53.0</td>\n",
       "      <td>53</td>\n",
       "    </tr>\n",
       "  </tbody>\n",
       "</table>\n",
       "</div>"
      ],
      "text/plain": [
       "   problem_id                                       problem_text  \\\n",
       "0        2374  Find the value of the expression $\\dfrac{17}{5...   \n",
       "1        4723  In a company of 30 people, 25 use the social n...   \n",
       "2        7135  The number of road traffic accidents (RTAs) in...   \n",
       "3        5814  Find the value of the expression $\\dfrac{2\\str...   \n",
       "4        9237  A traveler from Moscow wants to visit four cit...   \n",
       "\n",
       "                                       llm_reasoning  \\\n",
       "0  To solve the expression \\(\\dfrac{17}{5} : \\dfr...   \n",
       "1  Let's analyze the problem step by step using t...   \n",
       "2  Let the number of road traffic accidents in th...   \n",
       "3  To solve the expression \\(\\dfrac{2^{-5} \\cdot ...   \n",
       "4  To find a combination of routes that allows th...   \n",
       "\n",
       "                                        reevaluation  answer correct_answer  \n",
       "0  The student provided a thorough and correct so...     1.6            1.6  \n",
       "1  Let's evaluate the student's answer step by st...    24.0             24  \n",
       "2  The student's answer is well-structured and co...    32.0             32  \n",
       "3  The student provided a thorough and correct so...   256.0            256  \n",
       "4  The student's answer contains several inaccura...    53.0             53  "
      ]
     },
     "execution_count": 102,
     "metadata": {},
     "output_type": "execute_result"
    }
   ],
   "source": [
    "df_train_results = prepare_prompts_and_get_answers(df_train)\n",
    "df_train_results.head()"
   ]
  },
  {
   "cell_type": "code",
   "execution_count": 103,
   "metadata": {},
   "outputs": [
    {
     "data": {
      "application/vnd.jupyter.widget-view+json": {
       "model_id": "94823210e0f345a391fdf4459565e6fd",
       "version_major": 2,
       "version_minor": 0
      },
      "text/plain": [
       "  0%|          | 0/300 [00:00<?, ?it/s]"
      ]
     },
     "metadata": {},
     "output_type": "display_data"
    },
    {
     "data": {
      "text/html": [
       "<div>\n",
       "<style scoped>\n",
       "    .dataframe tbody tr th:only-of-type {\n",
       "        vertical-align: middle;\n",
       "    }\n",
       "\n",
       "    .dataframe tbody tr th {\n",
       "        vertical-align: top;\n",
       "    }\n",
       "\n",
       "    .dataframe thead th {\n",
       "        text-align: right;\n",
       "    }\n",
       "</style>\n",
       "<table border=\"1\" class=\"dataframe\">\n",
       "  <thead>\n",
       "    <tr style=\"text-align: right;\">\n",
       "      <th></th>\n",
       "      <th>problem_id</th>\n",
       "      <th>problem_text</th>\n",
       "      <th>llm_reasoning</th>\n",
       "      <th>reevaluation</th>\n",
       "      <th>answer</th>\n",
       "      <th>correct_answer</th>\n",
       "    </tr>\n",
       "  </thead>\n",
       "  <tbody>\n",
       "    <tr>\n",
       "      <th>0</th>\n",
       "      <td>9625</td>\n",
       "      <td>Find a four-digit number that is 14 times smal...</td>\n",
       "      <td>Let the four-digit number be \\( N \\). Accordin...</td>\n",
       "      <td>The student's approach to solving the problem ...</td>\n",
       "      <td>6076.00</td>\n",
       "      <td>1568</td>\n",
       "    </tr>\n",
       "    <tr>\n",
       "      <th>1</th>\n",
       "      <td>1064</td>\n",
       "      <td>Find the root of the equation $\\log _{\\frac{1}...</td>\n",
       "      <td>To solve the equation \\n\\n\\[\\n\\log_{\\frac{1}{2...</td>\n",
       "      <td>The student's solution is well-structured and ...</td>\n",
       "      <td>7.25</td>\n",
       "      <td>7.25</td>\n",
       "    </tr>\n",
       "    <tr>\n",
       "      <th>2</th>\n",
       "      <td>8511</td>\n",
       "      <td>The airplane's navigation system informs the p...</td>\n",
       "      <td>To convert the altitude from feet to meters, w...</td>\n",
       "      <td>The student's answer is correct in its calcula...</td>\n",
       "      <td>11590.00</td>\n",
       "      <td>11590</td>\n",
       "    </tr>\n",
       "    <tr>\n",
       "      <th>3</th>\n",
       "      <td>9692</td>\n",
       "      <td>Each of the four inequalities in the left colu...</td>\n",
       "      <td>To solve the inequalities and match them with ...</td>\n",
       "      <td>Let's evaluate the student's responses to the ...</td>\n",
       "      <td>2143.00</td>\n",
       "      <td>2143</td>\n",
       "    </tr>\n",
       "    <tr>\n",
       "      <th>4</th>\n",
       "      <td>221</td>\n",
       "      <td>The city budget amounts to 84 million rubles, ...</td>\n",
       "      <td>To find out how many million rubles were spent...</td>\n",
       "      <td>The student's answer is correct. They correctl...</td>\n",
       "      <td>37.80</td>\n",
       "      <td>37.8</td>\n",
       "    </tr>\n",
       "  </tbody>\n",
       "</table>\n",
       "</div>"
      ],
      "text/plain": [
       "   problem_id                                       problem_text  \\\n",
       "0        9625  Find a four-digit number that is 14 times smal...   \n",
       "1        1064  Find the root of the equation $\\log _{\\frac{1}...   \n",
       "2        8511  The airplane's navigation system informs the p...   \n",
       "3        9692  Each of the four inequalities in the left colu...   \n",
       "4         221  The city budget amounts to 84 million rubles, ...   \n",
       "\n",
       "                                       llm_reasoning  \\\n",
       "0  Let the four-digit number be \\( N \\). Accordin...   \n",
       "1  To solve the equation \\n\\n\\[\\n\\log_{\\frac{1}{2...   \n",
       "2  To convert the altitude from feet to meters, w...   \n",
       "3  To solve the inequalities and match them with ...   \n",
       "4  To find out how many million rubles were spent...   \n",
       "\n",
       "                                        reevaluation    answer correct_answer  \n",
       "0  The student's approach to solving the problem ...   6076.00           1568  \n",
       "1  The student's solution is well-structured and ...      7.25           7.25  \n",
       "2  The student's answer is correct in its calcula...  11590.00          11590  \n",
       "3  Let's evaluate the student's responses to the ...   2143.00           2143  \n",
       "4  The student's answer is correct. They correctl...     37.80           37.8  "
      ]
     },
     "execution_count": 103,
     "metadata": {},
     "output_type": "execute_result"
    }
   ],
   "source": [
    "df_train_unchecked_results = prepare_prompts_and_get_answers(df_train_unchecked)\n",
    "df_train_unchecked_results.head()"
   ]
  },
  {
   "cell_type": "code",
   "execution_count": 104,
   "metadata": {},
   "outputs": [
    {
     "data": {
      "text/plain": [
       "0.86"
      ]
     },
     "execution_count": 104,
     "metadata": {},
     "output_type": "execute_result"
    }
   ],
   "source": [
    "score(df_train, df_train_results, 'problem_id')"
   ]
  },
  {
   "cell_type": "code",
   "execution_count": 105,
   "metadata": {},
   "outputs": [
    {
     "data": {
      "text/plain": [
       "0.8866666666666667"
      ]
     },
     "execution_count": 105,
     "metadata": {},
     "output_type": "execute_result"
    }
   ],
   "source": [
    "score(df_train_unchecked, df_train_unchecked_results, 'problem_id')"
   ]
  },
  {
   "cell_type": "code",
   "execution_count": 80,
   "metadata": {},
   "outputs": [
    {
     "data": {
      "application/vnd.jupyter.widget-view+json": {
       "model_id": "570edcf180b5461082f9f66f85e4788b",
       "version_major": 2,
       "version_minor": 0
      },
      "text/plain": [
       "  0%|          | 0/100 [00:00<?, ?it/s]"
      ]
     },
     "metadata": {},
     "output_type": "display_data"
    }
   ],
   "source": [
    "df_test = pd.read_csv('data/test.csv')\n",
    "\n",
    "df_test_results = prepare_prompts_and_get_answers(df_test)\n",
    "\n",
    "submission = df_test_results[['problem_id', 'answer']]\n",
    "submission.to_csv('starter_notebook_submission.csv', index=False)"
   ]
  },
  {
   "cell_type": "code",
   "execution_count": null,
   "metadata": {},
   "outputs": [],
   "source": []
  }
 ],
 "metadata": {
  "kernelspec": {
   "display_name": "llm-zoomcamp",
   "language": "python",
   "name": "python3"
  },
  "language_info": {
   "codemirror_mode": {
    "name": "ipython",
    "version": 3
   },
   "file_extension": ".py",
   "mimetype": "text/x-python",
   "name": "python",
   "nbconvert_exporter": "python",
   "pygments_lexer": "ipython3",
   "version": "3.12.4"
  }
 },
 "nbformat": 4,
 "nbformat_minor": 2
}
